{
 "cells": [
  {
   "cell_type": "markdown",
   "id": "ea98a9fb-abf6-4ca2-a7f7-8564fa48a64d",
   "metadata": {},
   "source": [
    "# MA5 Notebook Lab\n",
    "**Fabricoio Pons Samano**  \n",
    "CPSC 322 Data Science Algorithms  \n",
    "Gonzaga University"
   ]
  },
  {
   "cell_type": "markdown",
   "id": "10e98441-9dab-41ab-b131-e2151818b6ce",
   "metadata": {},
   "source": [
    "## Task 1\n",
    "\n",
    "Typeset the following equations from Appendix A of Bramer:\n",
    "\n",
    "$$\\log_2(a \\times b) = \\log_2 a + \\log_2 b$$\n",
    "\n",
    "$$\\log_2(a/b) = \\log_2 a - \\log_2 b$$\n",
    "\n",
    "$$\\log_2(a^n) = n \\times \\log_2 a$$\n",
    "\n",
    "$$\\log_2(1/a) = -\\log_2 a$$\n",
    "\n",
    "### Double Summation Property\n",
    "\n",
    "$$\\sum_{i=1}^{m} \\sum_{j=1}^{n} a_{ij} = \\sum_{j=1}^{n} \\sum_{i=1}^{m} a_{ij}$$\n",
    "\n",
    "**Figure A.7** More Properties for the Logarithm Function\n",
    "\n",
    "**Source:** These equations are referenced from [Bramer, M. (2016). Principles of Data Mining. Springer](https://www.amazon.com/Principles-Data-Mining-Undergraduate-Computer/dp/1447164067)"
   ]
  },
  {
   "cell_type": "markdown",
   "id": "9c7bac2e-bd3c-439f-8e19-28935974e959",
   "metadata": {},
   "source": [
    "## Task 2\n",
    "\n",
    "Typesetting the mean formula and implementing it in Python code.\n",
    "\n",
    "### Mean Formula\n",
    "\n",
    "The formula for computing the mean of a sequence of numbers $x_1, x_2, \\ldots, x_n$ is:\n",
    "\n",
    "$$\\bar{x} = \\frac{x_1 + x_2 + \\cdots + x_n}{n}$$\n",
    "\n",
    "where $n$ is the total number of values in the sequence."
   ]
  },
  {
   "cell_type": "code",
   "execution_count": 11,
   "id": "36613fd4-4c69-496b-b43e-e2c16f7ec965",
   "metadata": {},
   "outputs": [
    {
     "name": "stdout",
     "output_type": "stream",
     "text": [
      "Mean of list1: 50.17\n",
      "Mean of list2: 25.23\n"
     ]
    }
   ],
   "source": [
    "import random\n",
    "\n",
    "def calculate_mean(numbers):\n",
    "    return sum(numbers) / len(numbers)\n",
    "\n",
    "list1 = [random.randint(1, 100) for _ in range(100)]\n",
    "list2 = [random.uniform(0, 50) for _ in range(100)]\n",
    "\n",
    "mean1 = calculate_mean(list1)\n",
    "mean2 = calculate_mean(list2)\n",
    "\n",
    "print(f\"Mean of list1: {mean1:.2f}\")\n",
    "print(f\"Mean of list2: {mean2:.2f}\")"
   ]
  },
  {
   "cell_type": "markdown",
   "id": "ed62d6e1-91dc-48ec-a924-e94190da9522",
   "metadata": {},
   "source": [
    "## Task 3: Statistics/Data Science Meme\n",
    "\n",
    "This task involves inserting a relevant image and explaining its humor or relevance to the field.\n",
    "\n",
    "### Data Science Humor\n",
    "\n",
    "![Statistics Meme](https://i.imgflip.com/2/1bij.jpg)\n",
    "\n",
    "*\"There are 10 types of people in the world: those who understand binary and those who don't.\"*\n",
    "\n",
    "**Explanation:**\n",
    "This classic computer science joke is funny because it plays on the binary number system used in computing. In binary, \"10\" represents the decimal number 2, so the joke is saying there are 2 types of people. \n",
    "\n",
    "This type of humor reflects how technical knowledge creates different perspectives on seemingly simple statements."
   ]
  },
  {
   "cell_type": "code",
   "execution_count": null,
   "id": "3fafae02-6aed-4f86-aa45-e6fdb3bbdc14",
   "metadata": {},
   "outputs": [],
   "source": []
  }
 ],
 "metadata": {
  "kernelspec": {
   "display_name": "Python 3 (ipykernel)",
   "language": "python",
   "name": "python3"
  },
  "language_info": {
   "codemirror_mode": {
    "name": "ipython",
    "version": 3
   },
   "file_extension": ".py",
   "mimetype": "text/x-python",
   "name": "python",
   "nbconvert_exporter": "python",
   "pygments_lexer": "ipython3",
   "version": "3.12.4"
  }
 },
 "nbformat": 4,
 "nbformat_minor": 5
}
